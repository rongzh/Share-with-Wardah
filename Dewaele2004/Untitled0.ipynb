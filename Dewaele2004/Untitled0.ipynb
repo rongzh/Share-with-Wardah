{
 "metadata": {
  "name": "",
  "signature": "sha256:fd68e8db45a9351422dcd7255e6c7dfe7dcb58a5f2965cd875e091ca175f2d64"
 },
 "nbformat": 3,
 "nbformat_minor": 0,
 "worksheets": [
  {
   "cells": [
    {
     "cell_type": "code",
     "collapsed": false,
     "input": [
      "import numpy as np\n",
      "import matplotlib.pyplot as plt\n",
      "\n",
      "Audat = np.loadtxt(fname='Au.md', delimiter='|', skiprows=3)\n",
      "#NaCldat = np.loadtxt(fname='NaCl-B2-Fig-4.md', delimiter='|', skiprows=3)\n",
      "\n",
      "plt.ion()\n",
      "\n",
      "plt.plot(Audat[:,1],Audat[:,2],'ko')\n",
      "plt.xlabel('Pressure [GPa]')\n",
      "plt.ylabel('Volume [Ang^3]')\n",
      "plt.title('Au data')\n",
      "plt.draw()\n"
     ],
     "language": "python",
     "metadata": {},
     "outputs": [],
     "prompt_number": 1
    },
    {
     "cell_type": "code",
     "collapsed": false,
     "input": [],
     "language": "python",
     "metadata": {},
     "outputs": []
    }
   ],
   "metadata": {}
  }
 ]
}