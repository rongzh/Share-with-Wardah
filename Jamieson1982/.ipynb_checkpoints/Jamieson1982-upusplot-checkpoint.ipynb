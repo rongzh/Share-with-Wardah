{
 "metadata": {
  "name": "",
  "signature": "sha256:be30d8d46e01ad1020f038927d4ddbfff9b88a10cfa70b578f66c9869169e578"
 },
 "nbformat": 3,
 "nbformat_minor": 0,
 "worksheets": [
  {
   "cells": [
    {
     "cell_type": "code",
     "collapsed": false,
     "input": [
      "import numpy as np\n",
      "import matplotlib.pyplot as plt\n",
      "\n",
      "Audat = np.loadtxt(fname='Au-Los-Alamos.md', delimiter='|', skiprows=3)\n",
      "Audat1 = np.loadtxt(fname='Au-Jones.md', delimiter='|',skiprows=3)\n",
      "Audat2 = np.loadtxt(fname='Au-Altschuler.md',delimiter='|',skiprows=3)\n",
      "\n",
      "plt.ion()\n",
      "\n",
      "plt.plot(Audat[:,0],Audat[:,1],'ko')\n",
      "plt.plot(Audat1[:,0],Audat1[:,1],'ko',markerfacecolor = 'red')\n",
      "plt.plot(Audat2[:,0],Audat2[:,1],'ko',markerfacecolor = 'blue')\n",
      "plt.xlabel('Up')\n",
      "plt.ylabel('Us')\n",
      "plt.xlim([0,4])\n",
      "plt.ylim([2,12])\n",
      "plt.title('Jamieson1982 Au Plot')\n",
      "plt.draw()"
     ],
     "language": "python",
     "metadata": {},
     "outputs": [],
     "prompt_number": 2
    },
    {
     "cell_type": "code",
     "collapsed": false,
     "input": [
      "import numpy as np\n",
      "import matplotlib.pyplot as plt\n",
      "\n",
      "Ptdat = np.loadtxt(fname='Pt.md', delimiter='|', skiprows=3)\n",
      "\n",
      "plt.ion()\n",
      "\n",
      "plt.plot(Ptdat[:,0],Ptdat[:,1],'ko')\n",
      "plt.xlabel('Up')\n",
      "plt.ylabel('Us')\n",
      "plt.xlim([0,4])\n",
      "plt.ylim([2,12])\n",
      "plt.title('Jamieson1982 Pt Plot')\n",
      "plt.draw()\n"
     ],
     "language": "python",
     "metadata": {},
     "outputs": [],
     "prompt_number": 1
    },
    {
     "cell_type": "code",
     "collapsed": false,
     "input": [
      "import numpy as np\n",
      "import matplotlib.pyplot as plt\n",
      "\n",
      "MgOdat = np.loadtxt(fname='MgO-Los-Alamos.md', delimiter='|', skiprows=3)\n",
      "\n",
      "plt.ion()\n",
      "\n",
      "plt.plot(MgOdat[:,0],MgOdat[:,1],'ko')\n",
      "plt.xlabel('Up')\n",
      "plt.ylabel('Us')\n",
      "plt.xlim([0,4])\n",
      "plt.ylim([2,12])\n",
      "plt.title('Jamieson1982 MgO Plot')\n",
      "plt.draw()"
     ],
     "language": "python",
     "metadata": {},
     "outputs": [],
     "prompt_number": 2
    },
    {
     "cell_type": "code",
     "collapsed": false,
     "input": [],
     "language": "python",
     "metadata": {},
     "outputs": []
    }
   ],
   "metadata": {}
  }
 ]
}