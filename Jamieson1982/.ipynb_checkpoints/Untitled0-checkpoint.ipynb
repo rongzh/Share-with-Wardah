{
 "metadata": {
  "name": "",
  "signature": "sha256:fa5b3d4139106d6132093135455775c997c025fb877d7854a6db6930557020a3"
 },
 "nbformat": 3,
 "nbformat_minor": 0,
 "worksheets": [
  {
   "cells": [
    {
     "cell_type": "code",
     "collapsed": false,
     "input": [
      "import numpy as np\n",
      "import matplotlib.pyplot as plt\n",
      "\n",
      "Audat = np.loadtxt(fname='Au-Los-Alamos.md', delimiter='|', skiprows=3)\n",
      "#NaCldat = np.loadtxt(fname='NaCl-B2-Fig-4.md', delimiter='|', skiprows=3)\n",
      "\n",
      "plt.ion()\n",
      "\n",
      "plt.plot(Audat[:,0],Audat[:,1],'ko')\n",
      "plt.xlabel('Up')\n",
      "plt.ylabel('Us')\n",
      "plt.title('Jamieson1982 Au-Los-Alamos Plot')\n",
      "plt.draw()"
     ],
     "language": "python",
     "metadata": {},
     "outputs": [],
     "prompt_number": 8
    },
    {
     "cell_type": "code",
     "collapsed": false,
     "input": [
      "import numpy as np\n",
      "import matplotlib.pyplot as plt\n",
      "\n",
      "Ptdat = np.loadtxt(fname='Pt.md', delimiter='|', skiprows=3)\n",
      "#NaCldat = np.loadtxt(fname='NaCl-B2-Fig-4.md', delimiter='|', skiprows=3)\n",
      "\n",
      "plt.ion()\n",
      "\n",
      "plt.plot(Ptdat[:,0],Ptdat[:,1],'ko')\n",
      "plt.xlabel('Up')\n",
      "plt.ylabel('Us')\n",
      "plt.title('Jamieson1982 Pt Plot')\n",
      "plt.draw()"
     ],
     "language": "python",
     "metadata": {},
     "outputs": []
    }
   ],
   "metadata": {}
  }
 ]
}