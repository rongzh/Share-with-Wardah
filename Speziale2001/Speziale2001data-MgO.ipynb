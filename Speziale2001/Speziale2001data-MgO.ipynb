{
 "metadata": {
  "name": "",
  "signature": "sha256:d36e7eb4a5edc2f485f0f484a7b8e4917a05d2d0e692f1509c0124aaf5f58d8c"
 },
 "nbformat": 3,
 "nbformat_minor": 0,
 "worksheets": [
  {
   "cells": [
    {
     "cell_type": "markdown",
     "metadata": {},
     "source": [
      "Speziale 2001 - MgO"
     ]
    },
    {
     "cell_type": "code",
     "collapsed": false,
     "input": [
      "import numpy as np\n",
      "import matplotlib.pyplot as plt"
     ],
     "language": "python",
     "metadata": {},
     "outputs": [],
     "prompt_number": 2
    },
    {
     "cell_type": "code",
     "collapsed": false,
     "input": [
      "MgOdat = np.loadtxt(fname='Speziale2001data-MgO.md', delimiter='|', skiprows=3)"
     ],
     "language": "python",
     "metadata": {},
     "outputs": [],
     "prompt_number": 3
    },
    {
     "cell_type": "code",
     "collapsed": false,
     "input": [
      "plt.ion()\n",
      "\n",
      "plt.plot(MgOdat[:,1],MgOdat[:,2],'ko')\n",
      "plt.xlabel('Pressure [GPa]')\n",
      "plt.ylabel('Volume [Ang^3]')\n",
      "plt.title('Speziale 2001 MgO data')\n",
      "plt.draw()"
     ],
     "language": "python",
     "metadata": {},
     "outputs": [],
     "prompt_number": 4
    },
    {
     "cell_type": "code",
     "collapsed": false,
     "input": [],
     "language": "python",
     "metadata": {},
     "outputs": []
    }
   ],
   "metadata": {}
  }
 ]
}