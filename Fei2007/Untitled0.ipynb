{
 "metadata": {
  "name": "",
  "signature": "sha256:6475c7967fc7b3750c0d533edc13fa16477e1fdd67f102164d96f293cc2407ec"
 },
 "nbformat": 3,
 "nbformat_minor": 0,
 "worksheets": [
  {
   "cells": [
    {
     "cell_type": "code",
     "collapsed": false,
     "input": [
      "import numpy as np\n",
      "import matplotlib.pyplot as plt\n",
      "\n",
      "Audat = np.loadtxt(fname='Au(Fig 1).md', delimiter='|', skiprows=3)\n",
      "#NaCldat = np.loadtxt(fname='NaCl-B2-Fig-4.md', delimiter='|', skiprows=3)\n",
      "\n",
      "plt.ion()\n",
      "\n",
      "plt.plot(Audat[:,1],Audat[:,2],'ko')\n",
      "plt.xlabel('Pressure [GPa]')\n",
      "plt.ylabel('Volume [Ang^3]')\n",
      "plt.title('Fei(2007) Au data')\n",
      "plt.draw()\n",
      "\n",
      "#plt.clf()\n",
      "#cmap = plt.get_cmap('bwr')\n",
      "#plt.scatter(NaCldat[:,1],NaCldat[:,2],50,NaCldat[:,0],'o',cmap=cmap,label='Fei2007-NaCl')\n",
      "#plt.colorbar(ticks=range(300,1001,100))\n",
      "#plt.clim([300, 1000])\n",
      "#plt.xlim([0,150])\n",
      "#plt.ylim([18,44])\n",
      "#legend = plt.legend(loc='upper right')"
     ],
     "language": "python",
     "metadata": {},
     "outputs": [],
     "prompt_number": 5
    },
    {
     "cell_type": "code",
     "collapsed": false,
     "input": [],
     "language": "python",
     "metadata": {},
     "outputs": []
    }
   ],
   "metadata": {}
  }
 ]
}